{
 "cells": [
  {
   "cell_type": "markdown",
   "id": "26b579f8",
   "metadata": {},
   "source": [
    "# CS Basics: Coding Exercises\n",
    "## Project Description:\n",
    "Here are a list of many different coding exercises that are somewhat relevant to the field of information theory. They vary in complexity and intensity. Feel free to work with your Learning Group to tackle many of these, perhaps even trying to divide them among your Learning Group to come up with solutions for all of them (not required, but might be a fun challenge).\n",
    "\n",
    "Each person should choose three of these exercises to submit for this assignment. You should, by the end of your work, feel confident in your own, individual, ability to explain your code, even if you started off by working with others to learn how to accomplish something.\n",
    "\n",
    "#### Author: Dakota Chang\n",
    "#### Date: March 23, 2023"
   ]
  },
  {
   "cell_type": "markdown",
   "id": "c5b86a6e",
   "metadata": {},
   "source": [
    "---\n",
    "Q4: \n",
    "Write a function that takes in a positive integer n\n",
    ", then outputs the Collatz sequence for that number:\n",
    "If the number n=1\n",
    ", you’re done.\n",
    "If the number n\n",
    " is even, divide it by 2 to get the next number in the sequence: n→n2\n",
    ".\n",
    "If the number n\n",
    " is an odd number bigger than 1, multiply by 3 and add 1 to get the next number in the sequence: n→3⋅n+1\n",
    ".\n",
    "Then, repeat the process until you reach 1, and output the list of numbers along the way to 1. For example, for collatz(3), the output should be [3, 10, 5, 16, 8, 4, 2, 1]."
   ]
  },
  {
   "cell_type": "code",
   "execution_count": 34,
   "id": "43ca5eeb",
   "metadata": {},
   "outputs": [
    {
     "name": "stdout",
     "output_type": "stream",
     "text": [
      "3\n",
      "10\n",
      "5\n",
      "16\n",
      "8\n",
      "4\n",
      "2\n",
      "1\n"
     ]
    },
    {
     "data": {
      "text/plain": [
       "[3, 10, 5, 16, 8, 4, 2, 1]"
      ]
     },
     "execution_count": 34,
     "metadata": {},
     "output_type": "execute_result"
    }
   ],
   "source": [
    "# recursive\n",
    "def collatz_r(n):\n",
    "    print(int(n))\n",
    "    if n == 1:\n",
    "        return\n",
    "    elif (n%2) == 0:\n",
    "        return collatz(n/2)\n",
    "    else:\n",
    "        return collatz(n*3+1)\n",
    "\n",
    "# not recursive\n",
    "def collatz_n(n):\n",
    "    num = n\n",
    "    lst = [n]\n",
    "    while num != 1:\n",
    "        if (num%2) == 0:\n",
    "            lst.append(int(num/2))\n",
    "            num = num/2\n",
    "        else:\n",
    "            lst.append(int(num*3+1))\n",
    "            num = num*3+1\n",
    "    return lst\n",
    "\n",
    "collatz_r(3)\n",
    "collatz_n(3)"
   ]
  },
  {
   "cell_type": "markdown",
   "id": "c8b82902",
   "metadata": {},
   "source": [
    "---\n",
    "Q5:\n",
    "\n",
    "String2 --> Double Char (Coding Bat)\n",
    "\n",
    "Given a string, return a string where for every char in the original, there are two chars.\n",
    "\n",
    "double_char('The') → 'TThhee'\n",
    "\n",
    "double_char('AAbb') → 'AAAAbbbb'\n",
    "\n",
    "double_char('Hi-There') → 'HHii--TThheerree'"
   ]
  },
  {
   "cell_type": "code",
   "execution_count": 35,
   "id": "effe1b45",
   "metadata": {},
   "outputs": [
    {
     "data": {
      "text/plain": [
       "'HHeelllloo'"
      ]
     },
     "execution_count": 35,
     "metadata": {},
     "output_type": "execute_result"
    }
   ],
   "source": [
    "def double_char(str):\n",
    "    ret = \"\"\n",
    "    for i in str:\n",
    "        ret = ret+i+i\n",
    "    return ret\n",
    "\n",
    "double_char(\"Hello\")"
   ]
  },
  {
   "cell_type": "markdown",
   "id": "4fe96f0b",
   "metadata": {},
   "source": [
    "---\n",
    "Q8:\n",
    "\n",
    "Complete problem 8 over on Project EulerLinks to an external site.. Or, realistically, any problem that's after, say, problem 8, but only one of these can count toward your three submitted problems.\n",
    "\n",
    "Factor Shuffle (Problem 823)"
   ]
  },
  {
   "cell_type": "code",
   "execution_count": 7,
   "id": "87ad065f",
   "metadata": {},
   "outputs": [],
   "source": [
    "# At each round, every number in the list is divided by its smallest prime factor. \n",
    "# Then the product of these smallest prime factors is added to the list as a new number. \n",
    "# Finally, all numbers that become 1 are removed from the list.\n",
    "\n",
    "def smallest_prime_factor(n):\n",
    "    if (n % 2 == 0):\n",
    "        return 2;\n",
    "    i = 3;\n",
    "    while(i * i <= n):\n",
    "        if (n % i == 0):\n",
    "            return i;\n",
    "        i += 2;\n",
    "    return n;\n",
    "\n",
    "def generate_list(n): # assuming n > 3\n",
    "    ret_lst = [2,3]\n",
    "    for i in range(n-3):\n",
    "        ret_lst.append(i+4)\n",
    "    return ret_lst\n",
    "\n",
    "def S_one_round(lst):\n",
    "    ret_lst = []\n",
    "    temp = 1\n",
    "    for each in lst:\n",
    "        temp = temp*smallest_prime_factor(each)\n",
    "        if (each//smallest_prime_factor(each)) != 1:\n",
    "            ret_lst.append(each//smallest_prime_factor(each))\n",
    "    ret_lst.append(temp)\n",
    "    return ret_lst \n",
    "\n",
    "def S(n, m): # m being rounds\n",
    "    lst = generate_list(n)\n",
    "    for i in range(m):\n",
    "        lst = S_one_round(lst)   \n",
    "    ret = 0\n",
    "    for i in lst:\n",
    "        ret += i\n",
    "    \n",
    "    return ret"
   ]
  }
 ],
 "metadata": {
  "kernelspec": {
   "display_name": "Python 3 (ipykernel)",
   "language": "python",
   "name": "python3"
  },
  "language_info": {
   "codemirror_mode": {
    "name": "ipython",
    "version": 3
   },
   "file_extension": ".py",
   "mimetype": "text/x-python",
   "name": "python",
   "nbconvert_exporter": "python",
   "pygments_lexer": "ipython3",
   "version": "3.10.10"
  }
 },
 "nbformat": 4,
 "nbformat_minor": 5
}
