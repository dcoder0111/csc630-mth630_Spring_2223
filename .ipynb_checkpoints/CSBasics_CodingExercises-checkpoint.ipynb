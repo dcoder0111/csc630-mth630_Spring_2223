{
 "cells": [
  {
   "cell_type": "markdown",
   "id": "26b579f8",
   "metadata": {},
   "source": [
    "# CS Basics: Coding Exercises\n",
    "## Project Description:\n",
    "Here are a list of many different coding exercises that are somewhat relevant to the field of information theory. They vary in complexity and intensity. Feel free to work with your Learning Group to tackle many of these, perhaps even trying to divide them among your Learning Group to come up with solutions for all of them (not required, but might be a fun challenge).\n",
    "\n",
    "Each person should choose three of these exercises to submit for this assignment. You should, by the end of your work, feel confident in your own, individual, ability to explain your code, even if you started off by working with others to learn how to accomplish something.\n",
    "\n",
    "#### Author: Dakota Chang\n",
    "#### Date: March 23, 2023"
   ]
  },
  {
   "cell_type": "markdown",
   "id": "a1947fc7",
   "metadata": {},
   "source": [
    "Q1: When you're working with binary information in Python, you might initially think that you need to just stick only to integers written in binary form. For example,\n",
    "\n",
    "x = 0b1011\n",
    "y = 0b0101\n",
    "\n",
    "print(f\"{x} written in binary : {bin(x)}\")\n",
    "\n",
    "print(f\"You can do math on {x}, because it's just an int: {x * 2}, in binary: {bin(x * 2)}\")\n",
    "\n",
    "print(f\"You can add two numbers created using binary: x + y = {x + y}, in binary: {bin(x+y)}\")\n",
    "\n",
    "Probably the most important operation when thinking in binary is (bitwise) xor:\n",
    "\n",
    "print(f\"xor operation: x ^ y = {x ^ y}, in binary: {bin(x ^ y)}\")\n",
    "\n",
    "Begin by running this code, and making sure you understand all of its parts. However, it turns out that thinking in this way is insufficient, because a slightly-large file, written as a single binary, will \"overflow\" the space designed to hold an int. For this exercise, give two examples of what this means, and offer up a solution using the Bytes object in Python. Demonstrate how this object solves the problem."
   ]
  },
  {
   "cell_type": "code",
   "execution_count": 6,
   "id": "bad086d8",
   "metadata": {},
   "outputs": [
    {
     "name": "stdout",
     "output_type": "stream",
     "text": [
      "11 written in binary : 0b1011\n",
      "You can do math on 11, because it's just an int: 22, in binary: 0b10110\n",
      "You can add two numbers created using binary: x + y = 16, in binary: 0b10000\n",
      "xor operation: x ^ y = 14, in binary: 0b1110\n"
     ]
    }
   ],
   "source": [
    "x = 0b1011\n",
    "y = 0b0101\n",
    "print(f\"{x} written in binary : {bin(x)}\")\n",
    "print(f\"You can do math on {x}, because it's just an int: {x * 2}, in binary: {bin(x * 2)}\")\n",
    "print(f\"You can add two numbers created using binary: x + y = {x + y}, in binary: {bin(x+y)}\")\n",
    "# Probably the most important operation when thinking in binary is (bitwise) xor:\n",
    "print(f\"xor operation: x ^ y = {x ^ y}, in binary: {bin(x ^ y)}\")"
   ]
  },
  {
   "cell_type": "code",
   "execution_count": 10,
   "id": "0b20d3d1",
   "metadata": {},
   "outputs": [
    {
     "name": "stdout",
     "output_type": "stream",
     "text": [
      "data in binary: 0b1010101001100111110001100001111\n",
      "result in binary: 0b11110000000011111010101001010101\n"
     ]
    }
   ],
   "source": [
    "# Create a byte object containing binary data\n",
    "data = bytes([0b01010101, 0b00110011, 0b11100011, 0b00001111])\n",
    "\n",
    "# Print the binary representation of the byte object\n",
    "print(f\"data in binary: {bin(int.from_bytes(data, byteorder='big'))}\")\n",
    "\n",
    "# Perform a bitwise xor operation on the byte object\n",
    "result = bytes([0b11110000, 0b00001111, 0b10101010, 0b01010101])\n",
    "\n",
    "# Print the binary representation of the result\n",
    "print(f\"result in binary: {bin(int.from_bytes(result, byteorder='big'))}\")"
   ]
  },
  {
   "cell_type": "markdown",
   "id": "fee48dd6",
   "metadata": {},
   "source": [
    "---\n",
    "\n",
    "Q2: Write a function that takes in a string and returns a list of all the permutations of its characters. Do this both with and without the help of a library, and test by comparing the two."
   ]
  },
  {
   "cell_type": "code",
   "execution_count": 20,
   "id": "d85fab91",
   "metadata": {},
   "outputs": [],
   "source": [
    "import itertools\n",
    "\n",
    "def permutations(string):\n",
    "    return list(itertools.permutations(string))"
   ]
  },
  {
   "cell_type": "code",
   "execution_count": 41,
   "id": "d4bc7949",
   "metadata": {},
   "outputs": [],
   "source": [
    "def permutations_selfmade(string):\n",
    "    arr = []\n",
    "    for char in range(len(string)):\n",
    "        arr.append(string[char])\n",
    "    \n",
    "    if len(arr) == 0:\n",
    "        return []\n",
    "    if len(arr) == 1:\n",
    "            return [arr]\n",
    "    l = []\n",
    "    for i in range(len(arr)):\n",
    "        m = arr[i]\n",
    "        remLst = arr[:i] + arr[i+1:]\n",
    "        for p in permutations_selfmade(remLst):\n",
    "            l.append([m] + p)\n",
    "    return l"
   ]
  },
  {
   "cell_type": "code",
   "execution_count": 25,
   "id": "586a01f2",
   "metadata": {},
   "outputs": [
    {
     "data": {
      "text/plain": [
       "[('h', 'e', 'l', 'l', 'o'),\n",
       " ('h', 'e', 'l', 'o', 'l'),\n",
       " ('h', 'e', 'l', 'l', 'o'),\n",
       " ('h', 'e', 'l', 'o', 'l'),\n",
       " ('h', 'e', 'o', 'l', 'l'),\n",
       " ('h', 'e', 'o', 'l', 'l'),\n",
       " ('h', 'l', 'e', 'l', 'o'),\n",
       " ('h', 'l', 'e', 'o', 'l'),\n",
       " ('h', 'l', 'l', 'e', 'o'),\n",
       " ('h', 'l', 'l', 'o', 'e'),\n",
       " ('h', 'l', 'o', 'e', 'l'),\n",
       " ('h', 'l', 'o', 'l', 'e'),\n",
       " ('h', 'l', 'e', 'l', 'o'),\n",
       " ('h', 'l', 'e', 'o', 'l'),\n",
       " ('h', 'l', 'l', 'e', 'o'),\n",
       " ('h', 'l', 'l', 'o', 'e'),\n",
       " ('h', 'l', 'o', 'e', 'l'),\n",
       " ('h', 'l', 'o', 'l', 'e'),\n",
       " ('h', 'o', 'e', 'l', 'l'),\n",
       " ('h', 'o', 'e', 'l', 'l'),\n",
       " ('h', 'o', 'l', 'e', 'l'),\n",
       " ('h', 'o', 'l', 'l', 'e'),\n",
       " ('h', 'o', 'l', 'e', 'l'),\n",
       " ('h', 'o', 'l', 'l', 'e'),\n",
       " ('e', 'h', 'l', 'l', 'o'),\n",
       " ('e', 'h', 'l', 'o', 'l'),\n",
       " ('e', 'h', 'l', 'l', 'o'),\n",
       " ('e', 'h', 'l', 'o', 'l'),\n",
       " ('e', 'h', 'o', 'l', 'l'),\n",
       " ('e', 'h', 'o', 'l', 'l'),\n",
       " ('e', 'l', 'h', 'l', 'o'),\n",
       " ('e', 'l', 'h', 'o', 'l'),\n",
       " ('e', 'l', 'l', 'h', 'o'),\n",
       " ('e', 'l', 'l', 'o', 'h'),\n",
       " ('e', 'l', 'o', 'h', 'l'),\n",
       " ('e', 'l', 'o', 'l', 'h'),\n",
       " ('e', 'l', 'h', 'l', 'o'),\n",
       " ('e', 'l', 'h', 'o', 'l'),\n",
       " ('e', 'l', 'l', 'h', 'o'),\n",
       " ('e', 'l', 'l', 'o', 'h'),\n",
       " ('e', 'l', 'o', 'h', 'l'),\n",
       " ('e', 'l', 'o', 'l', 'h'),\n",
       " ('e', 'o', 'h', 'l', 'l'),\n",
       " ('e', 'o', 'h', 'l', 'l'),\n",
       " ('e', 'o', 'l', 'h', 'l'),\n",
       " ('e', 'o', 'l', 'l', 'h'),\n",
       " ('e', 'o', 'l', 'h', 'l'),\n",
       " ('e', 'o', 'l', 'l', 'h'),\n",
       " ('l', 'h', 'e', 'l', 'o'),\n",
       " ('l', 'h', 'e', 'o', 'l'),\n",
       " ('l', 'h', 'l', 'e', 'o'),\n",
       " ('l', 'h', 'l', 'o', 'e'),\n",
       " ('l', 'h', 'o', 'e', 'l'),\n",
       " ('l', 'h', 'o', 'l', 'e'),\n",
       " ('l', 'e', 'h', 'l', 'o'),\n",
       " ('l', 'e', 'h', 'o', 'l'),\n",
       " ('l', 'e', 'l', 'h', 'o'),\n",
       " ('l', 'e', 'l', 'o', 'h'),\n",
       " ('l', 'e', 'o', 'h', 'l'),\n",
       " ('l', 'e', 'o', 'l', 'h'),\n",
       " ('l', 'l', 'h', 'e', 'o'),\n",
       " ('l', 'l', 'h', 'o', 'e'),\n",
       " ('l', 'l', 'e', 'h', 'o'),\n",
       " ('l', 'l', 'e', 'o', 'h'),\n",
       " ('l', 'l', 'o', 'h', 'e'),\n",
       " ('l', 'l', 'o', 'e', 'h'),\n",
       " ('l', 'o', 'h', 'e', 'l'),\n",
       " ('l', 'o', 'h', 'l', 'e'),\n",
       " ('l', 'o', 'e', 'h', 'l'),\n",
       " ('l', 'o', 'e', 'l', 'h'),\n",
       " ('l', 'o', 'l', 'h', 'e'),\n",
       " ('l', 'o', 'l', 'e', 'h'),\n",
       " ('l', 'h', 'e', 'l', 'o'),\n",
       " ('l', 'h', 'e', 'o', 'l'),\n",
       " ('l', 'h', 'l', 'e', 'o'),\n",
       " ('l', 'h', 'l', 'o', 'e'),\n",
       " ('l', 'h', 'o', 'e', 'l'),\n",
       " ('l', 'h', 'o', 'l', 'e'),\n",
       " ('l', 'e', 'h', 'l', 'o'),\n",
       " ('l', 'e', 'h', 'o', 'l'),\n",
       " ('l', 'e', 'l', 'h', 'o'),\n",
       " ('l', 'e', 'l', 'o', 'h'),\n",
       " ('l', 'e', 'o', 'h', 'l'),\n",
       " ('l', 'e', 'o', 'l', 'h'),\n",
       " ('l', 'l', 'h', 'e', 'o'),\n",
       " ('l', 'l', 'h', 'o', 'e'),\n",
       " ('l', 'l', 'e', 'h', 'o'),\n",
       " ('l', 'l', 'e', 'o', 'h'),\n",
       " ('l', 'l', 'o', 'h', 'e'),\n",
       " ('l', 'l', 'o', 'e', 'h'),\n",
       " ('l', 'o', 'h', 'e', 'l'),\n",
       " ('l', 'o', 'h', 'l', 'e'),\n",
       " ('l', 'o', 'e', 'h', 'l'),\n",
       " ('l', 'o', 'e', 'l', 'h'),\n",
       " ('l', 'o', 'l', 'h', 'e'),\n",
       " ('l', 'o', 'l', 'e', 'h'),\n",
       " ('o', 'h', 'e', 'l', 'l'),\n",
       " ('o', 'h', 'e', 'l', 'l'),\n",
       " ('o', 'h', 'l', 'e', 'l'),\n",
       " ('o', 'h', 'l', 'l', 'e'),\n",
       " ('o', 'h', 'l', 'e', 'l'),\n",
       " ('o', 'h', 'l', 'l', 'e'),\n",
       " ('o', 'e', 'h', 'l', 'l'),\n",
       " ('o', 'e', 'h', 'l', 'l'),\n",
       " ('o', 'e', 'l', 'h', 'l'),\n",
       " ('o', 'e', 'l', 'l', 'h'),\n",
       " ('o', 'e', 'l', 'h', 'l'),\n",
       " ('o', 'e', 'l', 'l', 'h'),\n",
       " ('o', 'l', 'h', 'e', 'l'),\n",
       " ('o', 'l', 'h', 'l', 'e'),\n",
       " ('o', 'l', 'e', 'h', 'l'),\n",
       " ('o', 'l', 'e', 'l', 'h'),\n",
       " ('o', 'l', 'l', 'h', 'e'),\n",
       " ('o', 'l', 'l', 'e', 'h'),\n",
       " ('o', 'l', 'h', 'e', 'l'),\n",
       " ('o', 'l', 'h', 'l', 'e'),\n",
       " ('o', 'l', 'e', 'h', 'l'),\n",
       " ('o', 'l', 'e', 'l', 'h'),\n",
       " ('o', 'l', 'l', 'h', 'e'),\n",
       " ('o', 'l', 'l', 'e', 'h')]"
      ]
     },
     "execution_count": 25,
     "metadata": {},
     "output_type": "execute_result"
    }
   ],
   "source": [
    "permutations(\"hello\")"
   ]
  },
  {
   "cell_type": "code",
   "execution_count": 42,
   "id": "ebd88c50",
   "metadata": {},
   "outputs": [
    {
     "data": {
      "text/plain": [
       "[['h', 'e', 'l', 'l', 'o'],\n",
       " ['h', 'e', 'l', 'o', 'l'],\n",
       " ['h', 'e', 'l', 'l', 'o'],\n",
       " ['h', 'e', 'l', 'o', 'l'],\n",
       " ['h', 'e', 'o', 'l', 'l'],\n",
       " ['h', 'e', 'o', 'l', 'l'],\n",
       " ['h', 'l', 'e', 'l', 'o'],\n",
       " ['h', 'l', 'e', 'o', 'l'],\n",
       " ['h', 'l', 'l', 'e', 'o'],\n",
       " ['h', 'l', 'l', 'o', 'e'],\n",
       " ['h', 'l', 'o', 'e', 'l'],\n",
       " ['h', 'l', 'o', 'l', 'e'],\n",
       " ['h', 'l', 'e', 'l', 'o'],\n",
       " ['h', 'l', 'e', 'o', 'l'],\n",
       " ['h', 'l', 'l', 'e', 'o'],\n",
       " ['h', 'l', 'l', 'o', 'e'],\n",
       " ['h', 'l', 'o', 'e', 'l'],\n",
       " ['h', 'l', 'o', 'l', 'e'],\n",
       " ['h', 'o', 'e', 'l', 'l'],\n",
       " ['h', 'o', 'e', 'l', 'l'],\n",
       " ['h', 'o', 'l', 'e', 'l'],\n",
       " ['h', 'o', 'l', 'l', 'e'],\n",
       " ['h', 'o', 'l', 'e', 'l'],\n",
       " ['h', 'o', 'l', 'l', 'e'],\n",
       " ['e', 'h', 'l', 'l', 'o'],\n",
       " ['e', 'h', 'l', 'o', 'l'],\n",
       " ['e', 'h', 'l', 'l', 'o'],\n",
       " ['e', 'h', 'l', 'o', 'l'],\n",
       " ['e', 'h', 'o', 'l', 'l'],\n",
       " ['e', 'h', 'o', 'l', 'l'],\n",
       " ['e', 'l', 'h', 'l', 'o'],\n",
       " ['e', 'l', 'h', 'o', 'l'],\n",
       " ['e', 'l', 'l', 'h', 'o'],\n",
       " ['e', 'l', 'l', 'o', 'h'],\n",
       " ['e', 'l', 'o', 'h', 'l'],\n",
       " ['e', 'l', 'o', 'l', 'h'],\n",
       " ['e', 'l', 'h', 'l', 'o'],\n",
       " ['e', 'l', 'h', 'o', 'l'],\n",
       " ['e', 'l', 'l', 'h', 'o'],\n",
       " ['e', 'l', 'l', 'o', 'h'],\n",
       " ['e', 'l', 'o', 'h', 'l'],\n",
       " ['e', 'l', 'o', 'l', 'h'],\n",
       " ['e', 'o', 'h', 'l', 'l'],\n",
       " ['e', 'o', 'h', 'l', 'l'],\n",
       " ['e', 'o', 'l', 'h', 'l'],\n",
       " ['e', 'o', 'l', 'l', 'h'],\n",
       " ['e', 'o', 'l', 'h', 'l'],\n",
       " ['e', 'o', 'l', 'l', 'h'],\n",
       " ['l', 'h', 'e', 'l', 'o'],\n",
       " ['l', 'h', 'e', 'o', 'l'],\n",
       " ['l', 'h', 'l', 'e', 'o'],\n",
       " ['l', 'h', 'l', 'o', 'e'],\n",
       " ['l', 'h', 'o', 'e', 'l'],\n",
       " ['l', 'h', 'o', 'l', 'e'],\n",
       " ['l', 'e', 'h', 'l', 'o'],\n",
       " ['l', 'e', 'h', 'o', 'l'],\n",
       " ['l', 'e', 'l', 'h', 'o'],\n",
       " ['l', 'e', 'l', 'o', 'h'],\n",
       " ['l', 'e', 'o', 'h', 'l'],\n",
       " ['l', 'e', 'o', 'l', 'h'],\n",
       " ['l', 'l', 'h', 'e', 'o'],\n",
       " ['l', 'l', 'h', 'o', 'e'],\n",
       " ['l', 'l', 'e', 'h', 'o'],\n",
       " ['l', 'l', 'e', 'o', 'h'],\n",
       " ['l', 'l', 'o', 'h', 'e'],\n",
       " ['l', 'l', 'o', 'e', 'h'],\n",
       " ['l', 'o', 'h', 'e', 'l'],\n",
       " ['l', 'o', 'h', 'l', 'e'],\n",
       " ['l', 'o', 'e', 'h', 'l'],\n",
       " ['l', 'o', 'e', 'l', 'h'],\n",
       " ['l', 'o', 'l', 'h', 'e'],\n",
       " ['l', 'o', 'l', 'e', 'h'],\n",
       " ['l', 'h', 'e', 'l', 'o'],\n",
       " ['l', 'h', 'e', 'o', 'l'],\n",
       " ['l', 'h', 'l', 'e', 'o'],\n",
       " ['l', 'h', 'l', 'o', 'e'],\n",
       " ['l', 'h', 'o', 'e', 'l'],\n",
       " ['l', 'h', 'o', 'l', 'e'],\n",
       " ['l', 'e', 'h', 'l', 'o'],\n",
       " ['l', 'e', 'h', 'o', 'l'],\n",
       " ['l', 'e', 'l', 'h', 'o'],\n",
       " ['l', 'e', 'l', 'o', 'h'],\n",
       " ['l', 'e', 'o', 'h', 'l'],\n",
       " ['l', 'e', 'o', 'l', 'h'],\n",
       " ['l', 'l', 'h', 'e', 'o'],\n",
       " ['l', 'l', 'h', 'o', 'e'],\n",
       " ['l', 'l', 'e', 'h', 'o'],\n",
       " ['l', 'l', 'e', 'o', 'h'],\n",
       " ['l', 'l', 'o', 'h', 'e'],\n",
       " ['l', 'l', 'o', 'e', 'h'],\n",
       " ['l', 'o', 'h', 'e', 'l'],\n",
       " ['l', 'o', 'h', 'l', 'e'],\n",
       " ['l', 'o', 'e', 'h', 'l'],\n",
       " ['l', 'o', 'e', 'l', 'h'],\n",
       " ['l', 'o', 'l', 'h', 'e'],\n",
       " ['l', 'o', 'l', 'e', 'h'],\n",
       " ['o', 'h', 'e', 'l', 'l'],\n",
       " ['o', 'h', 'e', 'l', 'l'],\n",
       " ['o', 'h', 'l', 'e', 'l'],\n",
       " ['o', 'h', 'l', 'l', 'e'],\n",
       " ['o', 'h', 'l', 'e', 'l'],\n",
       " ['o', 'h', 'l', 'l', 'e'],\n",
       " ['o', 'e', 'h', 'l', 'l'],\n",
       " ['o', 'e', 'h', 'l', 'l'],\n",
       " ['o', 'e', 'l', 'h', 'l'],\n",
       " ['o', 'e', 'l', 'l', 'h'],\n",
       " ['o', 'e', 'l', 'h', 'l'],\n",
       " ['o', 'e', 'l', 'l', 'h'],\n",
       " ['o', 'l', 'h', 'e', 'l'],\n",
       " ['o', 'l', 'h', 'l', 'e'],\n",
       " ['o', 'l', 'e', 'h', 'l'],\n",
       " ['o', 'l', 'e', 'l', 'h'],\n",
       " ['o', 'l', 'l', 'h', 'e'],\n",
       " ['o', 'l', 'l', 'e', 'h'],\n",
       " ['o', 'l', 'h', 'e', 'l'],\n",
       " ['o', 'l', 'h', 'l', 'e'],\n",
       " ['o', 'l', 'e', 'h', 'l'],\n",
       " ['o', 'l', 'e', 'l', 'h'],\n",
       " ['o', 'l', 'l', 'h', 'e'],\n",
       " ['o', 'l', 'l', 'e', 'h']]"
      ]
     },
     "execution_count": 42,
     "metadata": {},
     "output_type": "execute_result"
    }
   ],
   "source": [
    "permutations_selfmade(\"hello\")"
   ]
  },
  {
   "cell_type": "markdown",
   "id": "ffde52b6",
   "metadata": {},
   "source": [
    "---\n",
    "\n",
    "Q3: "
   ]
  },
  {
   "cell_type": "markdown",
   "id": "c5b86a6e",
   "metadata": {},
   "source": [
    "---\n",
    "Q4: \n",
    "Write a function that takes in a positive integer n\n",
    ", then outputs the Collatz sequence for that number:\n",
    "If the number n=1\n",
    ", you’re done.\n",
    "If the number n\n",
    " is even, divide it by 2 to get the next number in the sequence: n→n2\n",
    ".\n",
    "If the number n\n",
    " is an odd number bigger than 1, multiply by 3 and add 1 to get the next number in the sequence: n→3⋅n+1\n",
    ".\n",
    "Then, repeat the process until you reach 1, and output the list of numbers along the way to 1. For example, for collatz(3), the output should be [3, 10, 5, 16, 8, 4, 2, 1]."
   ]
  },
  {
   "cell_type": "code",
   "execution_count": 2,
   "id": "43ca5eeb",
   "metadata": {},
   "outputs": [
    {
     "name": "stdout",
     "output_type": "stream",
     "text": [
      "3\n",
      "10\n",
      "5\n",
      "16\n",
      "8\n",
      "4\n",
      "2\n",
      "1\n"
     ]
    },
    {
     "data": {
      "text/plain": [
       "[3, 10, 5, 16, 8, 4, 2, 1]"
      ]
     },
     "execution_count": 2,
     "metadata": {},
     "output_type": "execute_result"
    }
   ],
   "source": [
    "# recursive\n",
    "def collatz_r(n):\n",
    "    print(int(n))\n",
    "    if n == 1:\n",
    "        return\n",
    "    elif (n%2) == 0:\n",
    "        return collatz_r(n/2)\n",
    "    else:\n",
    "        return collatz_r(n*3+1)\n",
    "\n",
    "# not recursive\n",
    "def collatz_n(n):\n",
    "    num = n\n",
    "    lst = [n]\n",
    "    while num != 1:\n",
    "        if (num%2) == 0:\n",
    "            lst.append(int(num/2))\n",
    "            num = num/2\n",
    "        else:\n",
    "            lst.append(int(num*3+1))\n",
    "            num = num*3+1\n",
    "    return lst\n",
    "\n",
    "collatz_r(3)\n",
    "collatz_n(3)"
   ]
  },
  {
   "cell_type": "markdown",
   "id": "c8b82902",
   "metadata": {},
   "source": [
    "---\n",
    "Q5:\n",
    "\n",
    "String2 --> Double Char (Coding Bat)\n",
    "\n",
    "Given a string, return a string where for every char in the original, there are two chars.\n",
    "\n",
    "double_char('The') → 'TThhee'\n",
    "\n",
    "double_char('AAbb') → 'AAAAbbbb'\n",
    "\n",
    "double_char('Hi-There') → 'HHii--TThheerree'"
   ]
  },
  {
   "cell_type": "code",
   "execution_count": 35,
   "id": "effe1b45",
   "metadata": {},
   "outputs": [
    {
     "data": {
      "text/plain": [
       "'HHeelllloo'"
      ]
     },
     "execution_count": 35,
     "metadata": {},
     "output_type": "execute_result"
    }
   ],
   "source": [
    "def double_char(str):\n",
    "    ret = \"\"\n",
    "    for i in str:\n",
    "        ret = ret+i+i\n",
    "    return ret\n",
    "\n",
    "double_char(\"Hello\")"
   ]
  },
  {
   "cell_type": "markdown",
   "id": "2a9feadc",
   "metadata": {},
   "source": [
    "---\n",
    "\n",
    "Q6:\n",
    "Choose one of the following two problems:\n",
    "1. Given some input text, generate a graph of the frequencies of each of its characters (that is, its \"letters\", though it could be more things, like numbers or punctuation).\n",
    "2. Given some input text consisting of words and perhaps other junk like punctuation, remove the junk, then generate a graph of the frequencies of each of its words.\n",
    "\n",
    "I chose prompt 1."
   ]
  },
  {
   "cell_type": "code",
   "execution_count": 20,
   "id": "2e54914d",
   "metadata": {
    "scrolled": true
   },
   "outputs": [
    {
     "data": {
      "text/plain": [
       "<BarContainer object of 15 artists>"
      ]
     },
     "execution_count": 20,
     "metadata": {},
     "output_type": "execute_result"
    },
    {
     "data": {
      "image/png": "[encoded data removed]",
      "text/plain": [
       "<Figure size 640x480 with 1 Axes>"
      ]
     },
     "metadata": {},
     "output_type": "display_data"
    }
   ],
   "source": [
    "import matplotlib.pyplot as plt\n",
    "\n",
    "# use case: occurrences_in_array(array, 0, item you want to find occurences for)\n",
    "def occurrences_in_array(arr, index, num):\n",
    "    if index >= len(arr):\n",
    "        return 0\n",
    "    else:\n",
    "        if arr[index] == num:\n",
    "            return 1 + occurrences_in_array(arr, index + 1, num)\n",
    "        return occurrences_in_array(arr, index + 1, num)\n",
    "    \n",
    "def create_chart(x):\n",
    "    # creates array of letters\n",
    "    arr = []\n",
    "    for char in range(len(x)):\n",
    "        arr.append(x[char])\n",
    "    \n",
    "    # make another array without duplicates\n",
    "    arr_no_duplicates = [*set(arr)]\n",
    "    \n",
    "    # create corresponding numbers array\n",
    "    occ_letters = []\n",
    "    for char in arr_no_duplicates:\n",
    "        occ_letters.append(occurrences_in_array(arr, 0, char))\n",
    "    \n",
    "    return plt.bar(arr_no_duplicates, occ_letters)\n",
    " \n",
    "\n",
    "# test code\n",
    "trial = \"Hello World! This is a trial sentence.\"\n",
    "trial = trial.lower() # makes it all lowercase, is optional\n",
    "trial = trial.replace(\" \", \"\") # removes all spaces, is optional\n",
    "create_chart(trial)"
   ]
  },
  {
   "cell_type": "markdown",
   "id": "f50393d9",
   "metadata": {},
   "source": [
    "---\n",
    "\n",
    "Q7:\n",
    "Write some Python functions that perform the following tasks from first principles. What this means is: if there’s a function (in the standard library or elsewhere) which does this for you, the code I’m looking for is not simply calling this function. (Don’t worry, that will not be the rule for the whole term. I believe in using other people’s code almost always, but not at the very beginning.)\n",
    "1. replace(str,sub,new): given three strings, replace all instances of sub in str with new.\n",
    "2. count(str,sub): given two strings, count the number of occurrences of sub in str.\n",
    "3. longest(str): given a string, return a tuple containing the slice indices of the (first) longest word in the string. Assume the string is just a sentence or fragment with only ending punctuation. For example: if s = \"Four score and seven years ago,\", then longest(s) will return (5,10), because the longest words have 5 letters, and the first one is \"score\", which is equal to s[5:10] (that’s called slicing the string).\n",
    "4. is_balanced(str): given a string, return True if any parentheses in the string are appropriately nested, and False otherwise. For example, is_balanced(\"(8x + (46^3)) = 24\") returns True, but is_balanced(\")()(\") returns False. If you want an added challenge, add the functionality for braces {} and brackets []."
   ]
  },
  {
   "cell_type": "code",
   "execution_count": null,
   "id": "ed53866f",
   "metadata": {},
   "outputs": [],
   "source": [
    "# TODO"
   ]
  },
  {
   "cell_type": "markdown",
   "id": "4fe96f0b",
   "metadata": {},
   "source": [
    "---\n",
    "Q8:\n",
    "\n",
    "Complete problem 8 over on Project EulerLinks to an external site.. Or, realistically, any problem that's after, say, problem 8, but only one of these can count toward your three submitted problems.\n",
    "\n",
    "Factor Shuffle (Problem 823)"
   ]
  },
  {
   "cell_type": "code",
   "execution_count": 7,
   "id": "87ad065f",
   "metadata": {},
   "outputs": [],
   "source": [
    "# At each round, every number in the list is divided by its smallest prime factor. \n",
    "# Then the product of these smallest prime factors is added to the list as a new number. \n",
    "# Finally, all numbers that become 1 are removed from the list.\n",
    "\n",
    "def smallest_prime_factor(n):\n",
    "    if (n % 2 == 0):\n",
    "        return 2;\n",
    "    i = 3;\n",
    "    while(i * i <= n):\n",
    "        if (n % i == 0):\n",
    "            return i;\n",
    "        i += 2;\n",
    "    return n;\n",
    "\n",
    "def generate_list(n): # assuming n > 3\n",
    "    ret_lst = [2,3]\n",
    "    for i in range(n-3):\n",
    "        ret_lst.append(i+4)\n",
    "    return ret_lst\n",
    "\n",
    "def S_one_round(lst):\n",
    "    ret_lst = []\n",
    "    temp = 1\n",
    "    for each in lst:\n",
    "        temp = temp*smallest_prime_factor(each)\n",
    "        if (each//smallest_prime_factor(each)) != 1:\n",
    "            ret_lst.append(each//smallest_prime_factor(each))\n",
    "    ret_lst.append(temp)\n",
    "    return ret_lst \n",
    "\n",
    "def S(n, m): # m being rounds\n",
    "    lst = generate_list(n)\n",
    "    for i in range(m):\n",
    "        lst = S_one_round(lst)   \n",
    "    ret = 0\n",
    "    for i in lst:\n",
    "        ret += i\n",
    "    \n",
    "    return ret"
   ]
  }
 ],
 "metadata": {
  "kernelspec": {
   "display_name": "Python 3 (ipykernel)",
   "language": "python",
   "name": "python3"
  },
  "language_info": {
   "codemirror_mode": {
    "name": "ipython",
    "version": 3
   },
   "file_extension": ".py",
   "mimetype": "text/x-python",
   "name": "python",
   "nbconvert_exporter": "python",
   "pygments_lexer": "ipython3",
   "version": "3.10.10"
  }
 },
 "nbformat": 4,
 "nbformat_minor": 5
}
