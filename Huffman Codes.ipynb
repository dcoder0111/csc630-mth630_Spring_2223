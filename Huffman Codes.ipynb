{
 "cells": [
  {
   "cell_type": "markdown",
   "id": "adb442a2",
   "metadata": {},
   "source": [
    "# Information Theory Module: Huffman Codes\n",
    "## Project Description:\n",
    "In the project, I implement Huffman Codes for efficient data compression. The program takes input text and generates optimal prefix codes, assigning shorter codes to frequently occurring characters. The implementation involves constructing a Huffman tree based on character frequencies and encoding the input text using the generated codes. The project aims to demonstrate the effectiveness of Huffman coding in reducing data size while preserving information integrity. It serves as a practical application of information theory concepts and provides insights into the field of data compression.\n",
    "#### Author: Dakota Chang\n",
    "#### Date: May 23, 2023"
   ]
  },
  {
   "cell_type": "markdown",
   "id": "d105d517",
   "metadata": {},
   "source": [
    "Importing libraries"
   ]
  },
  {
   "cell_type": "code",
   "execution_count": null,
   "id": "8911633d",
   "metadata": {},
   "outputs": [],
   "source": [
    "from heapq import heapify, heappop, heappush"
   ]
  },
  {
   "cell_type": "markdown",
   "id": "f9f187c9",
   "metadata": {},
   "source": [
    "Creating Node class for Huffman tree representation.\n",
    "\n",
    "\\__init__:\n",
    "Constructor for the Node class.\n",
    "        \n",
    "        Parameters:\n",
    "        - ch: the character stored in the node\n",
    "        - freq: the frequency or weight associated with the character\n",
    "        - left: reference to the left child node (default is None)\n",
    "        - right: reference to the right child node (default is None)\n",
    "        \n",
    "\\__lt__:\n",
    "Less-than comparison method for Node objects.\n",
    "        \n",
    "        This method allows comparing two Node objects based on their frequencies.\n",
    "        It is used when nodes are stored in a priority queue, where nodes with lower frequencies are prioritized.\n",
    "        \n",
    "        Parameters:\n",
    "        - other: the other Node object to compare with\n",
    "        \n",
    "        Returns:\n",
    "        - True if the frequency of the current Node is less than the frequency of the other Node, False otherwise"
   ]
  },
  {
   "cell_type": "code",
   "execution_count": null,
   "id": "93c22750",
   "metadata": {},
   "outputs": [],
   "source": [
    "class Node:\n",
    "    def __init__(self, ch, freq, left=None, right=None):\n",
    "        self.ch, self.freq = ch, freq\n",
    "        self.left, self.right = left, right\n",
    "\n",
    "    def __lt__(self, other):\n",
    "        return self.freq < other.freq\n"
   ]
  },
  {
   "cell_type": "code",
   "execution_count": 12,
   "id": "2ed8355b",
   "metadata": {},
   "outputs": [],
   "source": [
    "def getHuffmanTree(text):\n",
    "    if len(text) == 0:\n",
    "        return None\n",
    "\n",
    "    freq = {ch: text.count(ch) for ch in set(text)}\n",
    "    pq = [Node(k, v) for k, v in freq.items()]\n",
    "    heapify(pq)\n",
    "\n",
    "    while len(pq) > 1:\n",
    "        left, right = heappop(pq), heappop(pq)\n",
    "        newFreq = left.freq + right.freq\n",
    "        heappush(pq, Node(None, newFreq, left, right))\n",
    "\n",
    "    return pq[0]  # Return the root of the Huffman tree\n",
    "\n",
    "def generateHuffmanCodes(node, currentCode, codes):\n",
    "    if node is None:\n",
    "        return\n",
    "\n",
    "    if node.ch is not None:\n",
    "        codes[node.ch] = currentCode\n",
    "        return\n",
    "\n",
    "    generateHuffmanCodes(node.left, currentCode + \"0\", codes)\n",
    "    generateHuffmanCodes(node.right, currentCode + \"1\", codes)\n",
    "\n",
    "def encodeMessage(message, codes):\n",
    "    encodedMessage = \"\"\n",
    "    for ch in message:\n",
    "        encodedMessage += codes[ch]\n",
    "    return encodedMessage"
   ]
  },
  {
   "cell_type": "markdown",
   "id": "ace10bc9",
   "metadata": {},
   "source": [
    "Test code:"
   ]
  },
  {
   "cell_type": "code",
   "execution_count": 11,
   "id": "68960b98",
   "metadata": {},
   "outputs": [
    {
     "name": "stdout",
     "output_type": "stream",
     "text": [
      "Original Message: hello world\n",
      "Huffman Codes: {'e': '000', 'w': '001', 'h': '010', 'r': '011', 'l': '10', 'o': '110', 'd': '1110', ' ': '1111'}\n",
      "Encoded Message: 01000010101101111001110011101110\n"
     ]
    }
   ],
   "source": [
    "message = \"hello world\"\n",
    "huffmanTree = getHuffmanTree(message)\n",
    "codes = {}\n",
    "generateHuffmanCodes(huffmanTree, \"\", codes)\n",
    "encodedMessage = encodeMessage(message, codes)\n",
    "\n",
    "print(\"Original Message:\", message)\n",
    "print(\"Huffman Codes:\", codes)\n",
    "print(\"Encoded Message:\", encodedMessage)"
   ]
  }
 ],
 "metadata": {
  "kernelspec": {
   "display_name": "Python 3 (ipykernel)",
   "language": "python",
   "name": "python3"
  },
  "language_info": {
   "codemirror_mode": {
    "name": "ipython",
    "version": 3
   },
   "file_extension": ".py",
   "mimetype": "text/x-python",
   "name": "python",
   "nbconvert_exporter": "python",
   "pygments_lexer": "ipython3",
   "version": "3.10.10"
  }
 },
 "nbformat": 4,
 "nbformat_minor": 5
}
