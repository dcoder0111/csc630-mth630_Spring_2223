{
 "cells": [
  {
   "cell_type": "markdown",
   "id": "cd833ece",
   "metadata": {},
   "source": [
    "# Information Theory: Basic Simulation\n",
    "## Project Description:\n",
    "In the \"Random Walk Simulation\" on the previous page, we did the following:\n",
    "\n",
    "Defined a probability experiment that's not easy to write out all the probabilities of its cases, but it is easy to make a simulating function for it,\n",
    "Created that simulation function in code,\n",
    "Used it to simulate a large number of outcomes (something around 2 orders of magnitude more that the number of possible cases, though it's not an exact science) and plotted the (simulated, estimated) distribution,\n",
    "Computed the entropy of the simulation, and\n",
    "Compared it to the relevant uniform distribution.\n",
    "Recreate these steps to do the same thing with a probability experiment that fits our above description: easy to simulate, hard to list all the explicit probabilities of its outcomes. Ideally something \"off the beaten path\", so not \"do something with 4 dice\", for example.\n",
    "\n",
    "For this project, I decided to simulate betting on all possible bets for the roulette wheel in a certain configuration and calculating the return of each iteration. \n",
    "\n",
    "#### Author: Dakota Chang\n",
    "#### Date: May 23, 2023"
   ]
  },
  {
   "cell_type": "markdown",
   "id": "ef47f465",
   "metadata": {},
   "source": [
    "I am going to simulate a roulette wheel. I learned how roulette wheel betting works based on this [website](https://www.venetianlasvegas.com/casino/table-games/roulette-basic-rules.html#:~:text=A%20bet%20on%20a%20single,offer%20Roulette%20in%20three%20variations.)."
   ]
  },
  {
   "cell_type": "markdown",
   "id": "e47b0f68",
   "metadata": {},
   "source": [
    "## Importing libraries"
   ]
  },
  {
   "cell_type": "code",
   "execution_count": 53,
   "id": "464e1fcf",
   "metadata": {},
   "outputs": [],
   "source": [
    "import random\n",
    "import matplotlib.pyplot as plt\n",
    "import numpy as np\n",
    "from scipy.stats import entropy"
   ]
  },
  {
   "cell_type": "markdown",
   "id": "a1c64758",
   "metadata": {},
   "source": [
    "#### Creating the roulette wheel"
   ]
  },
  {
   "cell_type": "code",
   "execution_count": 36,
   "id": "41aded6c",
   "metadata": {},
   "outputs": [
    {
     "name": "stdout",
     "output_type": "stream",
     "text": [
      "The ball landed on number 9 which is red color.\n"
     ]
    }
   ],
   "source": [
    "# Define the numbers and colors on the roulette wheel\n",
    "numbers = list(range(0, 37))\n",
    "colors = {\n",
    "    0: 'green',\n",
    "    1: 'red',\n",
    "    2: 'black',\n",
    "    3: 'red',\n",
    "    4: 'black',\n",
    "    5: 'red',\n",
    "    6: 'black',\n",
    "    7: 'red',\n",
    "    8: 'black',\n",
    "    9: 'red',\n",
    "    10: 'black',\n",
    "    11: 'black',\n",
    "    12: 'red',\n",
    "    13: 'black',\n",
    "    14: 'red',\n",
    "    15: 'black',\n",
    "    16: 'red',\n",
    "    17: 'black',\n",
    "    18: 'red',\n",
    "    19: 'red',\n",
    "    20: 'black',\n",
    "    21: 'red',\n",
    "    22: 'black',\n",
    "    23: 'red',\n",
    "    24: 'black',\n",
    "    25: 'red',\n",
    "    26: 'black',\n",
    "    27: 'red',\n",
    "    28: 'black',\n",
    "    29: 'black',\n",
    "    30: 'red',\n",
    "    31: 'black',\n",
    "    32: 'red',\n",
    "    33: 'black',\n",
    "    34: 'red',\n",
    "    35: 'black',\n",
    "    36: 'red'\n",
    "}\n",
    "\n",
    "# Simulate spinning the roulette wheel\n",
    "def spin_roulette():\n",
    "    result = random.choice(numbers)\n",
    "    color = colors[result]\n",
    "    return result, color\n",
    "\n",
    "# Example usage\n",
    "result, color = spin_roulette()\n",
    "print(f\"The ball landed on number {result} which is {color} color.\")\n"
   ]
  },
  {
   "cell_type": "markdown",
   "id": "ba71ab05",
   "metadata": {},
   "source": [
    "#### Simulate spinning the roulette wheel and all possible bets.\n"
   ]
  },
  {
   "cell_type": "code",
   "execution_count": 37,
   "id": "a679a743",
   "metadata": {},
   "outputs": [
    {
     "name": "stdout",
     "output_type": "stream",
     "text": [
      "The ball landed on number 12 which is red color.\n",
      "Payout for single number bet: $0\n",
      "Payout for double number bet: $0\n",
      "Payout for three number bet: $110\n",
      "Payout for four number bet: $0\n",
      "Payout for five number bet: $0\n",
      "Payout for six number bet: $0\n",
      "Payout for dozen bet: $20\n",
      "Payout for column bet: $0\n",
      "Payout for 18-number bet: $0\n",
      "Payout for color bet: $10\n",
      "Payout for odd/even bet: $10\n"
     ]
    }
   ],
   "source": [
    "def spin_roulette():\n",
    "    result = random.choice(numbers)\n",
    "    color = colors[result]\n",
    "    return result, color\n",
    "\n",
    "# single number bet\n",
    "def single_number_bet(number, bet_amount):\n",
    "    result, _ = spin_roulette()\n",
    "    if result == number:\n",
    "        payout = bet_amount * 35\n",
    "        return payout\n",
    "    else:\n",
    "        return 0\n",
    "\n",
    "# double number bet\n",
    "def double_number_bet(number1, number2, bet_amount):\n",
    "    result, _ = spin_roulette()\n",
    "    if result == number1 or result == number2:\n",
    "        payout = bet_amount * 17\n",
    "        return payout\n",
    "    else:\n",
    "        return 0\n",
    "\n",
    "# three number bet\n",
    "def three_number_bet(number1, number2, number3, bet_amount):\n",
    "    result, _ = spin_roulette()\n",
    "    if result == number1 or result == number2 or result == number3:\n",
    "        payout = bet_amount * 11\n",
    "        return payout\n",
    "    else:\n",
    "        return 0\n",
    "\n",
    "# four number bet\n",
    "def four_number_bet(number1, number2, number3, number4, bet_amount):\n",
    "    result, _ = spin_roulette()\n",
    "    if result == number1 or result == number2 or result == number3 or result == number4:\n",
    "        payout = bet_amount * 8\n",
    "        return payout\n",
    "    else:\n",
    "        return 0\n",
    "\n",
    "# five number bet\n",
    "def five_number_bet(bet_amount):\n",
    "    result, _ = spin_roulette()\n",
    "    if result in [0, 00, 1, 2, 3]:\n",
    "        payout = bet_amount * 6\n",
    "        return payout\n",
    "    else:\n",
    "        return 0\n",
    "\n",
    "# six number bet\n",
    "def six_number_bet(numbers_list, bet_amount):\n",
    "    result, _ = spin_roulette()\n",
    "    if result in numbers_list:\n",
    "        payout = bet_amount * 5\n",
    "        return payout\n",
    "    else:\n",
    "        return 0\n",
    "\n",
    "# dozen bet\n",
    "def dozen_bet(dozen, bet_amount):\n",
    "    result, _ = spin_roulette()\n",
    "    if (dozen == 1 and result >= 1 and result <= 12) or (dozen == 2 and result >= 13 and result <= 24) or (dozen == 3 and result >= 25 and result <= 36):\n",
    "        payout = bet_amount * 2\n",
    "        return payout\n",
    "    else:\n",
    "        return 0\n",
    "\n",
    "# column bet\n",
    "def column_bet(column, bet_amount):\n",
    "    result, _ = spin_roulette()\n",
    "    if result % 3 == column:\n",
    "        payout = bet_amount * 2\n",
    "        return payout\n",
    "    else:\n",
    "        return 0\n",
    "\n",
    "# 18-number bet (1-18 or 19-36)\n",
    "def eighteen_number_bet(range_start, bet_amount):\n",
    "    result, _ = spin_roulette()\n",
    "    if (range_start == 1 and result >= 1 and result <= 18) or (range_start == 19 and result >= 19 and result <= 36):\n",
    "        payout = bet_amount\n",
    "        return payout\n",
    "    else:\n",
    "        return 0\n",
    "\n",
    "# red or black bet\n",
    "def color_bet(color, bet_amount):\n",
    "    result, result_color = spin_roulette()\n",
    "    if result_color == color:\n",
    "        payout = bet_amount\n",
    "        return payout\n",
    "    else:\n",
    "        return 0\n",
    "\n",
    "# odd or even bet\n",
    "def odd_even_bet(odd_even, bet_amount):\n",
    "    result, _ = spin_roulette()\n",
    "    if (odd_even == 'odd' and result % 2 != 0) or (odd_even == 'even' and result % 2 == 0):\n",
    "        payout = bet_amount\n",
    "        return payout\n",
    "    else:\n",
    "        return 0\n",
    "\n",
    "# Example usage\n",
    "result, color = spin_roulette()\n",
    "print(f\"The ball landed on number {result} which is {color} color.\")\n",
    "\n",
    "bet_amount = 10\n",
    "payout = single_number_bet(5, bet_amount)\n",
    "print(f\"Payout for single number bet: ${payout}\")\n",
    "\n",
    "payout = double_number_bet(3, 6, bet_amount)\n",
    "print(f\"Payout for double number bet: ${payout}\")\n",
    "\n",
    "payout = three_number_bet(1, 2, 3, bet_amount)\n",
    "print(f\"Payout for three number bet: ${payout}\")\n",
    "\n",
    "payout = four_number_bet(1, 2, 4, 5, bet_amount)\n",
    "print(f\"Payout for four number bet: ${payout}\")\n",
    "\n",
    "payout = five_number_bet(bet_amount)\n",
    "print(f\"Payout for five number bet: ${payout}\")\n",
    "\n",
    "payout = six_number_bet([7, 8, 9, 10, 11, 12], bet_amount)\n",
    "print(f\"Payout for six number bet: ${payout}\")\n",
    "\n",
    "payout = dozen_bet(2, bet_amount)\n",
    "print(f\"Payout for dozen bet: ${payout}\")\n",
    "\n",
    "payout = column_bet(1, bet_amount)\n",
    "print(f\"Payout for column bet: ${payout}\")\n",
    "\n",
    "payout = eighteen_number_bet(19, bet_amount)\n",
    "print(f\"Payout for 18-number bet: ${payout}\")\n",
    "\n",
    "payout = color_bet('red', bet_amount)\n",
    "print(f\"Payout for color bet: ${payout}\")\n",
    "\n",
    "payout = odd_even_bet('odd', bet_amount)\n",
    "print(f\"Payout for odd/even bet: ${payout}\")\n"
   ]
  },
  {
   "cell_type": "markdown",
   "id": "1614a5af",
   "metadata": {},
   "source": [
    "#### Simulate all bets"
   ]
  },
  {
   "cell_type": "code",
   "execution_count": 49,
   "id": "d400459b",
   "metadata": {},
   "outputs": [],
   "source": [
    "def bet_all():\n",
    "    net_gain = -110\n",
    "    bet_amount = 10\n",
    "\n",
    "\n",
    "    payout = single_number_bet(5, bet_amount)\n",
    "    net_gain += payout\n",
    "\n",
    "    payout = double_number_bet(3, 6, bet_amount)\n",
    "    net_gain += payout\n",
    "\n",
    "    payout = three_number_bet(1, 2, 3, bet_amount)\n",
    "    net_gain += payout\n",
    "\n",
    "    payout = four_number_bet(1, 2, 4, 5, bet_amount)\n",
    "    net_gain += payout\n",
    "\n",
    "    payout = five_number_bet(bet_amount)\n",
    "    net_gain += payout\n",
    "\n",
    "    payout = six_number_bet([7, 8, 9, 10, 11, 12], bet_amount)\n",
    "    net_gain += payout\n",
    "\n",
    "    payout = dozen_bet(2, bet_amount)\n",
    "    net_gain += payout\n",
    "\n",
    "    payout = column_bet(1, bet_amount)\n",
    "    net_gain += payout\n",
    "\n",
    "    payout = eighteen_number_bet(19, bet_amount)\n",
    "    net_gain += payout\n",
    "\n",
    "    payout = color_bet('red', bet_amount)\n",
    "    net_gain += payout\n",
    "\n",
    "    payout = odd_even_bet('odd', bet_amount)\n",
    "    net_gain += payout\n",
    "\n",
    "    return net_gain"
   ]
  },
  {
   "cell_type": "code",
   "execution_count": 44,
   "id": "e4aabf15",
   "metadata": {},
   "outputs": [],
   "source": [
    "def simulate_bet(x):\n",
    "    tot = []\n",
    "    for i in range(x):\n",
    "        tot.append(bet_all())\n",
    "    tot.sort()\n",
    "    return tot"
   ]
  },
  {
   "cell_type": "markdown",
   "id": "cf68ee2f",
   "metadata": {},
   "source": [
    "#### Plotting different amounts of simulations against each other"
   ]
  },
  {
   "cell_type": "code",
   "execution_count": 45,
   "id": "425ca2ba",
   "metadata": {
    "scrolled": false
   },
   "outputs": [
    {
     "data": {
      "text/plain": [
       "(array([44., 28., 13.,  4.,  6.,  0.,  2.,  2.,  0.,  1.]),\n",
       " array([-110.,  -60.,  -10.,   40.,   90.,  140.,  190.,  240.,  290.,\n",
       "         340.,  390.]),\n",
       " <BarContainer object of 10 artists>)"
      ]
     },
     "execution_count": 45,
     "metadata": {},
     "output_type": "execute_result"
    },
    {
     "data": {
      "image/png": "[encoded data removed]",
      "text/plain": [
       "<Figure size 640x480 with 1 Axes>"
      ]
     },
     "metadata": {},
     "output_type": "display_data"
    }
   ],
   "source": [
    "plt.hist(simulate_bet(100))"
   ]
  },
  {
   "cell_type": "code",
   "execution_count": 46,
   "id": "78b0b4a6",
   "metadata": {},
   "outputs": [
    {
     "data": {
      "text/plain": [
       "(array([549., 220., 100.,  80.,  21.,  10.,   7.,   9.,   2.,   2.]),\n",
       " array([-110.,  -54.,    2.,   58.,  114.,  170.,  226.,  282.,  338.,\n",
       "         394.,  450.]),\n",
       " <BarContainer object of 10 artists>)"
      ]
     },
     "execution_count": 46,
     "metadata": {},
     "output_type": "execute_result"
    },
    {
     "data": {
      "image/png": "[encoded data removed]",
      "text/plain": [
       "<Figure size 640x480 with 1 Axes>"
      ]
     },
     "metadata": {},
     "output_type": "display_data"
    }
   ],
   "source": [
    "plt.hist(simulate_bet(1000))"
   ]
  },
  {
   "cell_type": "code",
   "execution_count": 47,
   "id": "1d714e21",
   "metadata": {},
   "outputs": [
    {
     "data": {
      "text/plain": [
       "(array([549., 255.,  85.,  60.,  17.,   7.,  15.,   7.,   3.,   2.]),\n",
       " array([-110.,  -53.,    4.,   61.,  118.,  175.,  232.,  289.,  346.,\n",
       "         403.,  460.]),\n",
       " <BarContainer object of 10 artists>)"
      ]
     },
     "execution_count": 47,
     "metadata": {},
     "output_type": "execute_result"
    },
    {
     "data": {
      "image/png": "[encoded data removed]",
      "text/plain": [
       "<Figure size 640x480 with 1 Axes>"
      ]
     },
     "metadata": {},
     "output_type": "display_data"
    }
   ],
   "source": [
    "plt.hist(simulate_bet(1000))"
   ]
  },
  {
   "cell_type": "markdown",
   "id": "28cf61c6",
   "metadata": {},
   "source": [
    "#### Calculating entropy and comparing it to uniform distrubution"
   ]
  },
  {
   "cell_type": "code",
   "execution_count": 52,
   "id": "0f561b0e",
   "metadata": {},
   "outputs": [
    {
     "name": "stdout",
     "output_type": "stream",
     "text": [
      "The simulation entropy is lower than the uniform entropy.\n",
      "Simulation Entropy: 3.0404078430566672\n",
      "Uniform Entropy: 6.0\n"
     ]
    }
   ],
   "source": [
    "results = simulate_bet(10000)\n",
    "\n",
    "# Calculate the probabilities of each outcome\n",
    "unique, counts = np.unique(results, return_counts=True)\n",
    "probabilities = counts / len(results)\n",
    "\n",
    "# Compute the entropy of the simulation\n",
    "simulation_entropy = entropy(probabilities)\n",
    "\n",
    "# Calculate the entropy of the relevant uniform distribution\n",
    "uniform_entropy = np.log2(len(unique))\n",
    "\n",
    "# Compare the simulation entropy to the uniform entropy\n",
    "if simulation_entropy < uniform_entropy:\n",
    "    print(\"The simulation entropy is lower than the uniform entropy.\")\n",
    "elif simulation_entropy > uniform_entropy:\n",
    "    print(\"The simulation entropy is higher than the uniform entropy.\")\n",
    "else:\n",
    "    print(\"The simulation entropy is equal to the uniform entropy.\")\n",
    "\n",
    "print(\"Simulation Entropy:\", simulation_entropy)\n",
    "print(\"Uniform Entropy:\", uniform_entropy)\n"
   ]
  }
 ],
 "metadata": {
  "kernelspec": {
   "display_name": "Python 3 (ipykernel)",
   "language": "python",
   "name": "python3"
  },
  "language_info": {
   "codemirror_mode": {
    "name": "ipython",
    "version": 3
   },
   "file_extension": ".py",
   "mimetype": "text/x-python",
   "name": "python",
   "nbconvert_exporter": "python",
   "pygments_lexer": "ipython3",
   "version": "3.10.10"
  }
 },
 "nbformat": 4,
 "nbformat_minor": 5
}
